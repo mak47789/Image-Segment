{
  "nbformat": 4,
  "nbformat_minor": 0,
  "metadata": {
    "colab": {
      "provenance": []
    },
    "kernelspec": {
      "name": "python3",
      "display_name": "Python 3"
    },
    "language_info": {
      "name": "python"
    }
  },
  "cells": [
    {
      "cell_type": "code",
      "execution_count": null,
      "metadata": {
        "colab": {
          "base_uri": "https://localhost:8080/"
        },
        "id": "zR7NDl-xnMwd",
        "outputId": "a5ca17ed-8ca8-4d32-b400-6294d23d2169"
      },
      "outputs": [
        {
          "output_type": "stream",
          "name": "stdout",
          "text": [
            "Mounted at /content/drive\n"
          ]
        }
      ],
      "source": [
        "from google .colab import drive\n",
        "drive.mount('/content/drive')"
      ]
    },
    {
      "cell_type": "code",
      "source": [],
      "metadata": {
        "id": "kJ_-gNa7LGaw"
      },
      "execution_count": null,
      "outputs": []
    },
    {
      "cell_type": "code",
      "source": [],
      "metadata": {
        "id": "pwrKGZBJLG51"
      },
      "execution_count": null,
      "outputs": []
    },
    {
      "cell_type": "code",
      "source": [
        "import tensorflow as tf\n",
        "from tensorflow.keras import datasets, layers, models\n",
        "import matplotlib.pyplot as plt\n",
        "\n",
        "# Load and preprocess the dataset (for demonstration, using CIFAR-10)\n",
        "(train_images, train_labels), (test_images, test_labels) = datasets.cifar10.load_data()\n",
        "train_images, test_images = train_images / 255.0, test_images / 255.0\n",
        "\n",
        "# Define the CNN architecture\n",
        "model = models.Sequential([\n",
        "    layers.Conv2D(32, (3, 3), activation='relu', input_shape=(32, 32, 3)),\n",
        "    layers.MaxPooling2D((2, 2)),\n",
        "    layers.Conv2D(64, (3, 3), activation='relu'),\n",
        "    layers.MaxPooling2D((2, 2)),\n",
        "    layers.Conv2D(64, (3, 3), activation='relu'),\n",
        "    layers.Flatten(),\n",
        "    layers.Dense(64, activation='relu'),\n",
        "    layers.Dense(10)  # 10 classes for CIFAR-10\n",
        "])\n",
        "\n",
        "# Compile the model\n",
        "model.compile(optimizer='adam',\n",
        "              loss=tf.keras.losses.SparseCategoricalCrossentropy(from_logits=True),\n",
        "              metrics=['accuracy'])\n",
        "\n",
        "# Train the model\n",
        "history = model.fit(train_images, train_labels, epochs=10,\n",
        "                    validation_data=(test_images, test_labels))\n",
        "\n",
        "# Evaluate the model\n",
        "test_loss, test_acc = model.evaluate(test_images, test_labels, verbose=2)\n",
        "print(\"\\nTest accuracy:\", test_acc)\n",
        "\n",
        "# Plot training history\n",
        "plt.plot(history.history['accuracy'], label='Training Accuracy')\n",
        "plt.plot(history.history['val_accuracy'], label='Validation Accuracy')\n",
        "plt.xlabel('Epoch')\n",
        "plt.ylabel('Accuracy')\n",
        "plt.legend()\n",
        "plt.show()\n"
      ],
      "metadata": {
        "colab": {
          "base_uri": "https://localhost:8080/",
          "height": 909
        },
        "id": "vMqQlp7YoBk6",
        "outputId": "c04f7f4e-9ce5-4c79-81a8-34b735d8c556"
      },
      "execution_count": null,
      "outputs": [
        {
          "output_type": "stream",
          "name": "stdout",
          "text": [
            "Downloading data from https://www.cs.toronto.edu/~kriz/cifar-10-python.tar.gz\n",
            "170498071/170498071 [==============================] - 3s 0us/step\n",
            "Epoch 1/10\n",
            "1563/1563 [==============================] - 101s 62ms/step - loss: 1.5290 - accuracy: 0.4417 - val_loss: 1.2362 - val_accuracy: 0.5530\n",
            "Epoch 2/10\n",
            "1563/1563 [==============================] - 85s 55ms/step - loss: 1.1677 - accuracy: 0.5870 - val_loss: 1.1138 - val_accuracy: 0.6110\n",
            "Epoch 3/10\n",
            "1563/1563 [==============================] - 82s 52ms/step - loss: 1.0115 - accuracy: 0.6476 - val_loss: 0.9951 - val_accuracy: 0.6466\n",
            "Epoch 4/10\n",
            "1563/1563 [==============================] - 83s 53ms/step - loss: 0.9105 - accuracy: 0.6823 - val_loss: 0.9286 - val_accuracy: 0.6767\n",
            "Epoch 5/10\n",
            "1563/1563 [==============================] - 82s 53ms/step - loss: 0.8395 - accuracy: 0.7034 - val_loss: 0.9021 - val_accuracy: 0.6792\n",
            "Epoch 6/10\n",
            "1563/1563 [==============================] - 87s 56ms/step - loss: 0.7753 - accuracy: 0.7274 - val_loss: 0.8768 - val_accuracy: 0.6963\n",
            "Epoch 7/10\n",
            "1563/1563 [==============================] - 84s 54ms/step - loss: 0.7321 - accuracy: 0.7418 - val_loss: 0.9243 - val_accuracy: 0.6885\n",
            "Epoch 8/10\n",
            "1563/1563 [==============================] - 81s 52ms/step - loss: 0.6801 - accuracy: 0.7600 - val_loss: 0.8811 - val_accuracy: 0.7009\n",
            "Epoch 9/10\n",
            "1563/1563 [==============================] - 83s 53ms/step - loss: 0.6456 - accuracy: 0.7743 - val_loss: 0.8607 - val_accuracy: 0.7096\n",
            "Epoch 10/10\n",
            "1563/1563 [==============================] - 83s 53ms/step - loss: 0.6070 - accuracy: 0.7857 - val_loss: 0.8532 - val_accuracy: 0.7151\n",
            "313/313 - 4s - loss: 0.8532 - accuracy: 0.7151 - 4s/epoch - 14ms/step\n",
            "\n",
            "Test accuracy: 0.7150999903678894\n"
          ]
        },
        {
          "output_type": "display_data",
          "data": {
            "text/plain": [
              "<Figure size 640x480 with 1 Axes>"
            ],
            "image/png": "[encoded data removed]"
          },
          "metadata": {}
        }
      ]
    },
    {
      "cell_type": "code",
      "source": [
        "from keras.layers import Input, Lambda, Dense, Flatten\n",
        "from keras.models import Model\n",
        "from keras.applications.vgg16 import VGG16\n",
        "from keras.applications.vgg16 import preprocess_input\n",
        "from keras.preprocessing import image\n",
        "from keras.preprocessing.image import ImageDataGenerator\n",
        "from keras.models import Sequential\n",
        "import numpy as np\n",
        "from glob import glob\n",
        "import matplotlib.pyplot as plt\n",
        "\n",
        "import warnings\n",
        "warnings.filterwarnings(\"ignore\", category=FutureWarning)"
      ],
      "metadata": {
        "id": "Y0u6mUbx8p4P"
      },
      "execution_count": null,
      "outputs": []
    },
    {
      "cell_type": "code",
      "source": [
        "IMAGE_SIZE = [224, 224]"
      ],
      "metadata": {
        "id": "e1iAumc881ZF"
      },
      "execution_count": null,
      "outputs": []
    },
    {
      "cell_type": "code",
      "source": [
        "pip install split-folders"
      ],
      "metadata": {
        "colab": {
          "base_uri": "https://localhost:8080/"
        },
        "id": "MbHI4GdHKyTk",
        "outputId": "ff268db1-4c70-4da4-ad05-f95eb2a96689"
      },
      "execution_count": null,
      "outputs": [
        {
          "output_type": "stream",
          "name": "stdout",
          "text": [
            "Looking in indexes: https://pypi.org/simple, https://us-python.pkg.dev/colab-wheels/public/simple/\n",
            "Collecting split-folders\n",
            "  Downloading split_folders-0.5.1-py3-none-any.whl (8.4 kB)\n",
            "Installing collected packages: split-folders\n",
            "Successfully installed split-folders-0.5.1\n"
          ]
        }
      ]
    },
    {
      "cell_type": "code",
      "source": [
        "train_path = '/content/drive/MyDrive/Colab Notebooks/Monkeypox_dataset_22/Monkeypox_dataset_22/Monkeypox/Train'\n",
        "test_path = '/content/drive/MyDrive/Colab Notebooks/Monkeypox_dataset_22/Monkeypox_dataset_22/Monkeypox/Test'\n"
      ],
      "metadata": {
        "id": "8lHCM3_D86q0"
      },
      "execution_count": null,
      "outputs": []
    },
    {
      "cell_type": "code",
      "source": [
        "!ls '/content/drive'"
      ],
      "metadata": {
        "colab": {
          "base_uri": "https://localhost:8080/"
        },
        "id": "wgu1rTCk_Fcv",
        "outputId": "57bd15f0-d7ae-48a1-96a1-7605d1bad9f0"
      },
      "execution_count": null,
      "outputs": [
        {
          "output_type": "stream",
          "name": "stdout",
          "text": [
            "MyDrive\n"
          ]
        }
      ]
    },
    {
      "cell_type": "code",
      "source": [
        "from PIL import Image\n",
        "import os\n",
        "from IPython.display import display\n",
        "from IPython.display import Image as _Imgdis\n",
        "# creating a object\n",
        "\n",
        "\n",
        "folder = train_path\n",
        "\n",
        "\n",
        "onlybenignfiles = [f for f in os.listdir(folder) if os.path.isfile(os.path.join(folder, f))]\n",
        "print(\"Working with {0} images\".format(len(onlybenignfiles)))\n",
        "print(\"Image examples: \")\n",
        "\n",
        "\n",
        "for i in range(1):\n",
        "    print(onlybenignfiles[i])\n",
        "    display(_Imgdis(filename=folder + \"/\" + onlybenignfiles[i], width=240, height=240))"
      ],
      "metadata": {
        "colab": {
          "base_uri": "https://localhost:8080/",
          "height": 391
        },
        "id": "AF_MLf8M9anv",
        "outputId": "c2b34594-779c-4e2a-cd54-fbd66e8ad1ee"
      },
      "execution_count": null,
      "outputs": [
        {
          "output_type": "stream",
          "name": "stdout",
          "text": [
            "Working with 35 images\n",
            "Image examples: \n",
            "15.jfif\n"
          ]
        },
        {
          "output_type": "error",
          "ename": "ValueError",
          "evalue": "ignored",
          "traceback": [
            "\u001b[0;31m---------------------------------------------------------------------------\u001b[0m",
            "\u001b[0;31mValueError\u001b[0m                                Traceback (most recent call last)",
            "\u001b[0;32m<ipython-input-11-d0eb3a898087>\u001b[0m in \u001b[0;36m<cell line: 16>\u001b[0;34m()\u001b[0m\n\u001b[1;32m     16\u001b[0m \u001b[0;32mfor\u001b[0m \u001b[0mi\u001b[0m \u001b[0;32min\u001b[0m \u001b[0mrange\u001b[0m\u001b[0;34m(\u001b[0m\u001b[0;36m1\u001b[0m\u001b[0;34m)\u001b[0m\u001b[0;34m:\u001b[0m\u001b[0;34m\u001b[0m\u001b[0;34m\u001b[0m\u001b[0m\n\u001b[1;32m     17\u001b[0m     \u001b[0mprint\u001b[0m\u001b[0;34m(\u001b[0m\u001b[0monlybenignfiles\u001b[0m\u001b[0;34m[\u001b[0m\u001b[0mi\u001b[0m\u001b[0;34m]\u001b[0m\u001b[0;34m)\u001b[0m\u001b[0;34m\u001b[0m\u001b[0;34m\u001b[0m\u001b[0m\n\u001b[0;32m---> 18\u001b[0;31m     \u001b[0mdisplay\u001b[0m\u001b[0;34m(\u001b[0m\u001b[0m_Imgdis\u001b[0m\u001b[0;34m(\u001b[0m\u001b[0mfilename\u001b[0m\u001b[0;34m=\u001b[0m\u001b[0mfolder\u001b[0m \u001b[0;34m+\u001b[0m \u001b[0;34m\"/\"\u001b[0m \u001b[0;34m+\u001b[0m \u001b[0monlybenignfiles\u001b[0m\u001b[0;34m[\u001b[0m\u001b[0mi\u001b[0m\u001b[0;34m]\u001b[0m\u001b[0;34m,\u001b[0m \u001b[0mwidth\u001b[0m\u001b[0;34m=\u001b[0m\u001b[0;36m240\u001b[0m\u001b[0;34m,\u001b[0m \u001b[0mheight\u001b[0m\u001b[0;34m=\u001b[0m\u001b[0;36m240\u001b[0m\u001b[0;34m)\u001b[0m\u001b[0;34m)\u001b[0m\u001b[0;34m\u001b[0m\u001b[0;34m\u001b[0m\u001b[0m\n\u001b[0m",
            "\u001b[0;32m/usr/local/lib/python3.10/dist-packages/IPython/core/display.py\u001b[0m in \u001b[0;36m__init__\u001b[0;34m(self, data, url, filename, format, embed, width, height, retina, unconfined, metadata)\u001b[0m\n\u001b[1;32m   1221\u001b[0m \u001b[0;34m\u001b[0m\u001b[0m\n\u001b[1;32m   1222\u001b[0m         \u001b[0;32mif\u001b[0m \u001b[0mself\u001b[0m\u001b[0;34m.\u001b[0m\u001b[0membed\u001b[0m \u001b[0;32mand\u001b[0m \u001b[0mself\u001b[0m\u001b[0;34m.\u001b[0m\u001b[0mformat\u001b[0m \u001b[0;32mnot\u001b[0m \u001b[0;32min\u001b[0m \u001b[0mself\u001b[0m\u001b[0;34m.\u001b[0m\u001b[0m_ACCEPTABLE_EMBEDDINGS\u001b[0m\u001b[0;34m:\u001b[0m\u001b[0;34m\u001b[0m\u001b[0;34m\u001b[0m\u001b[0m\n\u001b[0;32m-> 1223\u001b[0;31m             \u001b[0;32mraise\u001b[0m \u001b[0mValueError\u001b[0m\u001b[0;34m(\u001b[0m\u001b[0;34m\"Cannot embed the '%s' image format\"\u001b[0m \u001b[0;34m%\u001b[0m \u001b[0;34m(\u001b[0m\u001b[0mself\u001b[0m\u001b[0;34m.\u001b[0m\u001b[0mformat\u001b[0m\u001b[0;34m)\u001b[0m\u001b[0;34m)\u001b[0m\u001b[0;34m\u001b[0m\u001b[0;34m\u001b[0m\u001b[0m\n\u001b[0m\u001b[1;32m   1224\u001b[0m         \u001b[0;32mif\u001b[0m \u001b[0mself\u001b[0m\u001b[0;34m.\u001b[0m\u001b[0membed\u001b[0m\u001b[0;34m:\u001b[0m\u001b[0;34m\u001b[0m\u001b[0;34m\u001b[0m\u001b[0m\n\u001b[1;32m   1225\u001b[0m             \u001b[0mself\u001b[0m\u001b[0;34m.\u001b[0m\u001b[0m_mimetype\u001b[0m \u001b[0;34m=\u001b[0m \u001b[0mself\u001b[0m\u001b[0;34m.\u001b[0m\u001b[0m_MIMETYPES\u001b[0m\u001b[0;34m.\u001b[0m\u001b[0mget\u001b[0m\u001b[0;34m(\u001b[0m\u001b[0mself\u001b[0m\u001b[0;34m.\u001b[0m\u001b[0mformat\u001b[0m\u001b[0;34m)\u001b[0m\u001b[0;34m\u001b[0m\u001b[0;34m\u001b[0m\u001b[0m\n",
            "\u001b[0;31mValueError\u001b[0m: Cannot embed the 'jfif' image format"
          ]
        }
      ]
    },
    {
      "cell_type": "code",
      "source": [
        "vgg = VGG16(input_shape=IMAGE_SIZE + [3], weights='imagenet', include_top=False)"
      ],
      "metadata": {
        "id": "r384SECpBI_1",
        "colab": {
          "base_uri": "https://localhost:8080/"
        },
        "outputId": "0c09ab9a-1bdb-45e5-a7fc-fb781699850a"
      },
      "execution_count": null,
      "outputs": [
        {
          "output_type": "stream",
          "name": "stdout",
          "text": [
            "Downloading data from https://storage.googleapis.com/tensorflow/keras-applications/vgg16/vgg16_weights_tf_dim_ordering_tf_kernels_notop.h5\n",
            "58889256/58889256 [==============================] - 0s 0us/step\n"
          ]
        }
      ]
    },
    {
      "cell_type": "code",
      "source": [
        "vgg.input"
      ],
      "metadata": {
        "colab": {
          "base_uri": "https://localhost:8080/"
        },
        "id": "BHgx_ctPBgtr",
        "outputId": "8ba7247a-ea2e-4012-8809-24fa03ac1968"
      },
      "execution_count": null,
      "outputs": [
        {
          "output_type": "execute_result",
          "data": {
            "text/plain": [
              "<KerasTensor: shape=(None, 224, 224, 3) dtype=float32 (created by layer 'input_1')>"
            ]
          },
          "metadata": {},
          "execution_count": 13
        }
      ]
    },
    {
      "cell_type": "code",
      "source": [
        "for layer in vgg.layers:\n",
        "  layer.trainable = False\n"
      ],
      "metadata": {
        "id": "ShjwesN5Bmka"
      },
      "execution_count": null,
      "outputs": []
    },
    {
      "cell_type": "code",
      "source": [
        "folders = glob('/content/drive/MyDrive/Colab Notebooks/Monkeypox_dataset_22/Monkeypox_dataset_22/Monkeypox/*')\n",
        "print(len(folders))\n"
      ],
      "metadata": {
        "colab": {
          "base_uri": "https://localhost:8080/"
        },
        "id": "ofDQvo-WBrHw",
        "outputId": "29e5238e-3494-4fe8-8bae-59edf4359fd8"
      },
      "execution_count": null,
      "outputs": [
        {
          "output_type": "stream",
          "name": "stdout",
          "text": [
            "8\n"
          ]
        }
      ]
    },
    {
      "cell_type": "code",
      "source": [
        "x = Flatten()(vgg.output)\n",
        "prediction = Dense(len(folders), activation='softmax')(x)\n",
        "model = Model(inputs=vgg.input, outputs=prediction)\n",
        "model.summary()"
      ],
      "metadata": {
        "colab": {
          "base_uri": "https://localhost:8080/"
        },
        "id": "4hbtCkkGB47H",
        "outputId": "503cd067-9a62-42c3-a28f-f3857853566c"
      },
      "execution_count": null,
      "outputs": [
        {
          "output_type": "stream",
          "name": "stdout",
          "text": [
            "Model: \"model\"\n",
            "_________________________________________________________________\n",
            " Layer (type)                Output Shape              Param #   \n",
            "=================================================================\n",
            " input_1 (InputLayer)        [(None, 224, 224, 3)]     0         \n",
            "                                                                 \n",
            " block1_conv1 (Conv2D)       (None, 224, 224, 64)      1792      \n",
            "                                                                 \n",
            " block1_conv2 (Conv2D)       (None, 224, 224, 64)      36928     \n",
            "                                                                 \n",
            " block1_pool (MaxPooling2D)  (None, 112, 112, 64)      0         \n",
            "                                                                 \n",
            " block2_conv1 (Conv2D)       (None, 112, 112, 128)     73856     \n",
            "                                                                 \n",
            " block2_conv2 (Conv2D)       (None, 112, 112, 128)     147584    \n",
            "                                                                 \n",
            " block2_pool (MaxPooling2D)  (None, 56, 56, 128)       0         \n",
            "                                                                 \n",
            " block3_conv1 (Conv2D)       (None, 56, 56, 256)       295168    \n",
            "                                                                 \n",
            " block3_conv2 (Conv2D)       (None, 56, 56, 256)       590080    \n",
            "                                                                 \n",
            " block3_conv3 (Conv2D)       (None, 56, 56, 256)       590080    \n",
            "                                                                 \n",
            " block3_pool (MaxPooling2D)  (None, 28, 28, 256)       0         \n",
            "                                                                 \n",
            " block4_conv1 (Conv2D)       (None, 28, 28, 512)       1180160   \n",
            "                                                                 \n",
            " block4_conv2 (Conv2D)       (None, 28, 28, 512)       2359808   \n",
            "                                                                 \n",
            " block4_conv3 (Conv2D)       (None, 28, 28, 512)       2359808   \n",
            "                                                                 \n",
            " block4_pool (MaxPooling2D)  (None, 14, 14, 512)       0         \n",
            "                                                                 \n",
            " block5_conv1 (Conv2D)       (None, 14, 14, 512)       2359808   \n",
            "                                                                 \n",
            " block5_conv2 (Conv2D)       (None, 14, 14, 512)       2359808   \n",
            "                                                                 \n",
            " block5_conv3 (Conv2D)       (None, 14, 14, 512)       2359808   \n",
            "                                                                 \n",
            " block5_pool (MaxPooling2D)  (None, 7, 7, 512)         0         \n",
            "                                                                 \n",
            " flatten (Flatten)           (None, 25088)             0         \n",
            "                                                                 \n",
            " dense (Dense)               (None, 8)                 200712    \n",
            "                                                                 \n",
            "=================================================================\n",
            "Total params: 14,915,400\n",
            "Trainable params: 200,712\n",
            "Non-trainable params: 14,714,688\n",
            "_________________________________________________________________\n"
          ]
        }
      ]
    },
    {
      "cell_type": "code",
      "source": [
        "from keras import optimizers\n",
        "\n",
        "\n",
        "adam = optimizers.Adam()\n",
        "model.compile(loss='binary_crossentropy',\n",
        "              optimizer=adam,\n",
        "              metrics=['accuracy'])"
      ],
      "metadata": {
        "id": "LhYDQno_B_bv"
      },
      "execution_count": null,
      "outputs": []
    },
    {
      "cell_type": "code",
      "source": [
        "train_datagen = ImageDataGenerator(\n",
        "    preprocessing_function=preprocess_input,\n",
        "    rotation_range=40,\n",
        "    width_shift_range=0.2,\n",
        "    height_shift_range=0.2,\n",
        "    shear_range=0.2,\n",
        "    zoom_range=0.2,\n",
        "    horizontal_flip=True,\n",
        "    fill_mode='nearest')"
      ],
      "metadata": {
        "id": "aed_iKsMCFL8"
      },
      "execution_count": null,
      "outputs": []
    },
    {
      "cell_type": "code",
      "source": [
        "test_datagen = ImageDataGenerator(\n",
        "    preprocessing_function=preprocess_input,\n",
        "    rotation_range=40,\n",
        "    width_shift_range=0.2,\n",
        "    height_shift_range=0.2,\n",
        "    shear_range=0.2,\n",
        "    zoom_range=0.2,\n",
        "    horizontal_flip=True,\n",
        "    fill_mode='nearest')"
      ],
      "metadata": {
        "id": "AfgezBpXCIvR"
      },
      "execution_count": null,
      "outputs": []
    },
    {
      "cell_type": "code",
      "source": [
        "train_set = train_datagen.flow_from_directory(train_path,\n",
        "                                                 target_size = (224, 224),\n",
        "                                                 batch_size = 32,\n",
        "                                                 class_mode = 'binary')"
      ],
      "metadata": {
        "colab": {
          "base_uri": "https://localhost:8080/"
        },
        "id": "UbyBcQ4LCMa8",
        "outputId": "63d06194-bec4-4e77-c4d7-4374a7ca3602"
      },
      "execution_count": null,
      "outputs": [
        {
          "output_type": "stream",
          "name": "stdout",
          "text": [
            "Found 0 images belonging to 0 classes.\n"
          ]
        }
      ]
    },
    {
      "cell_type": "code",
      "source": [
        "test_set = test_datagen.flow_from_directory(test_path,\n",
        "                                            target_size = (224, 224),\n",
        "                                            batch_size = 32,\n",
        "                                            class_mode = 'binary')\n"
      ],
      "metadata": {
        "colab": {
          "base_uri": "https://localhost:8080/"
        },
        "id": "T_R-qXg1CRqE",
        "outputId": "a995c447-5f56-4cb5-b9a9-d17e614f5bc1"
      },
      "execution_count": null,
      "outputs": [
        {
          "output_type": "stream",
          "name": "stdout",
          "text": [
            "Found 0 images belonging to 0 classes.\n"
          ]
        }
      ]
    },
    {
      "cell_type": "code",
      "source": [
        "feature_extractor= vgg.predict(train_set)"
      ],
      "metadata": {
        "colab": {
          "base_uri": "https://localhost:8080/",
          "height": 311
        },
        "id": "qNYIPTXArEfu",
        "outputId": "a2eac937-4d5a-43dc-841d-a0bb2759fa8f"
      },
      "execution_count": null,
      "outputs": [
        {
          "output_type": "error",
          "ename": "ValueError",
          "evalue": "ignored",
          "traceback": [
            "\u001b[0;31m---------------------------------------------------------------------------\u001b[0m",
            "\u001b[0;31mValueError\u001b[0m                                Traceback (most recent call last)",
            "\u001b[0;32m<ipython-input-22-690f550f183f>\u001b[0m in \u001b[0;36m<cell line: 1>\u001b[0;34m()\u001b[0m\n\u001b[0;32m----> 1\u001b[0;31m \u001b[0mfeature_extractor\u001b[0m\u001b[0;34m=\u001b[0m \u001b[0mvgg\u001b[0m\u001b[0;34m.\u001b[0m\u001b[0mpredict\u001b[0m\u001b[0;34m(\u001b[0m\u001b[0mtrain_set\u001b[0m\u001b[0;34m)\u001b[0m\u001b[0;34m\u001b[0m\u001b[0;34m\u001b[0m\u001b[0m\n\u001b[0m",
            "\u001b[0;32m/usr/local/lib/python3.10/dist-packages/keras/utils/traceback_utils.py\u001b[0m in \u001b[0;36merror_handler\u001b[0;34m(*args, **kwargs)\u001b[0m\n\u001b[1;32m     68\u001b[0m             \u001b[0;31m# To get the full stack trace, call:\u001b[0m\u001b[0;34m\u001b[0m\u001b[0;34m\u001b[0m\u001b[0m\n\u001b[1;32m     69\u001b[0m             \u001b[0;31m# `tf.debugging.disable_traceback_filtering()`\u001b[0m\u001b[0;34m\u001b[0m\u001b[0;34m\u001b[0m\u001b[0m\n\u001b[0;32m---> 70\u001b[0;31m             \u001b[0;32mraise\u001b[0m \u001b[0me\u001b[0m\u001b[0;34m.\u001b[0m\u001b[0mwith_traceback\u001b[0m\u001b[0;34m(\u001b[0m\u001b[0mfiltered_tb\u001b[0m\u001b[0;34m)\u001b[0m \u001b[0;32mfrom\u001b[0m \u001b[0;32mNone\u001b[0m\u001b[0;34m\u001b[0m\u001b[0;34m\u001b[0m\u001b[0m\n\u001b[0m\u001b[1;32m     71\u001b[0m         \u001b[0;32mfinally\u001b[0m\u001b[0;34m:\u001b[0m\u001b[0;34m\u001b[0m\u001b[0;34m\u001b[0m\u001b[0m\n\u001b[1;32m     72\u001b[0m             \u001b[0;32mdel\u001b[0m \u001b[0mfiltered_tb\u001b[0m\u001b[0;34m\u001b[0m\u001b[0;34m\u001b[0m\u001b[0m\n",
            "\u001b[0;32m/usr/local/lib/python3.10/dist-packages/keras/preprocessing/image.py\u001b[0m in \u001b[0;36m__getitem__\u001b[0;34m(self, idx)\u001b[0m\n\u001b[1;32m    101\u001b[0m     \u001b[0;32mdef\u001b[0m \u001b[0m__getitem__\u001b[0m\u001b[0;34m(\u001b[0m\u001b[0mself\u001b[0m\u001b[0;34m,\u001b[0m \u001b[0midx\u001b[0m\u001b[0;34m)\u001b[0m\u001b[0;34m:\u001b[0m\u001b[0;34m\u001b[0m\u001b[0;34m\u001b[0m\u001b[0m\n\u001b[1;32m    102\u001b[0m         \u001b[0;32mif\u001b[0m \u001b[0midx\u001b[0m \u001b[0;34m>=\u001b[0m \u001b[0mlen\u001b[0m\u001b[0;34m(\u001b[0m\u001b[0mself\u001b[0m\u001b[0;34m)\u001b[0m\u001b[0;34m:\u001b[0m\u001b[0;34m\u001b[0m\u001b[0;34m\u001b[0m\u001b[0m\n\u001b[0;32m--> 103\u001b[0;31m             raise ValueError(\n\u001b[0m\u001b[1;32m    104\u001b[0m                 \u001b[0;34m\"Asked to retrieve element {idx}, \"\u001b[0m\u001b[0;34m\u001b[0m\u001b[0;34m\u001b[0m\u001b[0m\n\u001b[1;32m    105\u001b[0m                 \u001b[0;34m\"but the Sequence \"\u001b[0m\u001b[0;34m\u001b[0m\u001b[0;34m\u001b[0m\u001b[0m\n",
            "\u001b[0;31mValueError\u001b[0m: Asked to retrieve element 0, but the Sequence has length 0"
          ]
        }
      ]
    },
    {
      "cell_type": "code",
      "source": [
        "features = feature_extractor.reshape(feature_extractor.shape[0], -1)"
      ],
      "metadata": {
        "id": "yULByGbKroHm"
      },
      "execution_count": null,
      "outputs": []
    },
    {
      "cell_type": "code",
      "source": [
        "X_for_RF = features"
      ],
      "metadata": {
        "id": "iHJe0LUFrtxa"
      },
      "execution_count": null,
      "outputs": []
    },
    {
      "cell_type": "code",
      "source": [
        "from sklearn.ensemble import RandomForestClassifier\n",
        "RF_model = RandomForestClassifier(n_estimators = 50, random_state = 42)"
      ],
      "metadata": {
        "id": "suIEps9-rxsH"
      },
      "execution_count": null,
      "outputs": []
    },
    {
      "cell_type": "code",
      "source": [
        "import numpy as np\n",
        "import matplotlib.pyplot as plt\n",
        "import glob\n",
        "import cv2\n",
        "\n",
        "from keras.models import Model, Sequential\n",
        "from keras.layers import Dense, Flatten, Conv2D, MaxPooling2D\n",
        "from tensorflow.keras.layers import BatchNormalization\n",
        "import os\n",
        "import seaborn as sns\n",
        "from keras.applications.vgg16 import VGG16\n",
        "SIZE = 224\n",
        "train_images = []\n",
        "train_labels = []\n",
        "for directory_path in glob.glob(\"/content/drive/MyDrive/Colab Notebooks/Custom/dataset/train/*\"):\n",
        "    fruit_label = directory_path.split(\"\\\\\")[-1]\n",
        "    for img_path in glob.glob(os.path.join(directory_path, \"*.jpg\")):\n",
        "        print(img_path)\n",
        "        img = cv2.imread(img_path, cv2.IMREAD_COLOR)\n",
        "        img = cv2.resize(img, (SIZE, SIZE))\n",
        "        img = cv2.cvtColor(img, cv2.COLOR_RGB2BGR)\n",
        "        train_images.append(img)\n",
        "        train_labels.append(fruit_label)"
      ],
      "metadata": {
        "colab": {
          "base_uri": "https://localhost:8080/"
        },
        "id": "a1mnCQIXuqFp",
        "outputId": "71b26ec0-39a0-4a17-bf6e-679352a4557a"
      },
      "execution_count": null,
      "outputs": [
        {
          "output_type": "stream",
          "name": "stdout",
          "text": [
            "/content/drive/MyDrive/Colab Notebooks/Custom/dataset/train/first_train/00000_00.jpg\n",
            "/content/drive/MyDrive/Colab Notebooks/Custom/dataset/train/first_train/00000_01.jpg\n",
            "/content/drive/MyDrive/Colab Notebooks/Custom/dataset/train/first_train/00000_02.jpg\n",
            "/content/drive/MyDrive/Colab Notebooks/Custom/dataset/train/second_train/00000_03.jpg\n",
            "/content/drive/MyDrive/Colab Notebooks/Custom/dataset/train/second_train/00000_04.jpg\n"
          ]
        }
      ]
    },
    {
      "cell_type": "code",
      "source": [
        "train_images = np.array(train_images)\n",
        "print(train_images)\n",
        "train_labels = np.array(train_labels)\n",
        "print(train_labels)"
      ],
      "metadata": {
        "colab": {
          "base_uri": "https://localhost:8080/"
        },
        "id": "BjGv1PW_u87x",
        "outputId": "84afc26e-f413-4a95-f9be-1536b5ebf011"
      },
      "execution_count": null,
      "outputs": [
        {
          "output_type": "stream",
          "name": "stdout",
          "text": [
            "[[[[254 254 254]\n",
            "   [254 254 254]\n",
            "   [255 255 255]\n",
            "   ...\n",
            "   [255 255 255]\n",
            "   [254 254 254]\n",
            "   [252 252 252]]\n",
            "\n",
            "  [[254 254 254]\n",
            "   [254 254 254]\n",
            "   [255 255 255]\n",
            "   ...\n",
            "   [245 245 245]\n",
            "   [236 236 236]\n",
            "   [229 229 229]]\n",
            "\n",
            "  [[254 254 254]\n",
            "   [254 254 254]\n",
            "   [255 255 255]\n",
            "   ...\n",
            "   [232 232 232]\n",
            "   [215 215 215]\n",
            "   [200 200 200]]\n",
            "\n",
            "  ...\n",
            "\n",
            "  [[252 252 252]\n",
            "   [253 253 253]\n",
            "   [254 254 254]\n",
            "   ...\n",
            "   [248 248 248]\n",
            "   [240 240 240]\n",
            "   [228 228 228]]\n",
            "\n",
            "  [[253 253 253]\n",
            "   [254 254 254]\n",
            "   [255 255 255]\n",
            "   ...\n",
            "   [254 254 254]\n",
            "   [232 232 232]\n",
            "   [203 203 203]]\n",
            "\n",
            "  [[254 254 254]\n",
            "   [254 254 254]\n",
            "   [255 255 255]\n",
            "   ...\n",
            "   [254 254 254]\n",
            "   [222 222 222]\n",
            "   [181 181 181]]]\n",
            "\n",
            "\n",
            " [[[255 255 255]\n",
            "   [255 255 255]\n",
            "   [255 255 255]\n",
            "   ...\n",
            "   [180 180 180]\n",
            "   [184 184 184]\n",
            "   [186 186 186]]\n",
            "\n",
            "  [[255 255 255]\n",
            "   [255 255 255]\n",
            "   [255 255 255]\n",
            "   ...\n",
            "   [145 145 145]\n",
            "   [146 146 146]\n",
            "   [148 148 148]]\n",
            "\n",
            "  [[255 255 255]\n",
            "   [255 255 255]\n",
            "   [255 255 255]\n",
            "   ...\n",
            "   [128 128 128]\n",
            "   [125 125 125]\n",
            "   [125 125 125]]\n",
            "\n",
            "  ...\n",
            "\n",
            "  [[193 193 193]\n",
            "   [185 185 185]\n",
            "   [187 187 187]\n",
            "   ...\n",
            "   [255 255 255]\n",
            "   [255 255 255]\n",
            "   [255 255 255]]\n",
            "\n",
            "  [[183 183 183]\n",
            "   [179 179 179]\n",
            "   [183 183 183]\n",
            "   ...\n",
            "   [254 254 254]\n",
            "   [254 254 254]\n",
            "   [254 254 254]]\n",
            "\n",
            "  [[170 170 170]\n",
            "   [164 164 164]\n",
            "   [166 166 166]\n",
            "   ...\n",
            "   [254 254 254]\n",
            "   [254 254 254]\n",
            "   [254 254 254]]]\n",
            "\n",
            "\n",
            " [[[203 203 203]\n",
            "   [210 210 210]\n",
            "   [216 216 216]\n",
            "   ...\n",
            "   [254 254 254]\n",
            "   [234 234 234]\n",
            "   [209 209 209]]\n",
            "\n",
            "  [[192 192 192]\n",
            "   [199 199 199]\n",
            "   [210 210 210]\n",
            "   ...\n",
            "   [243 243 243]\n",
            "   [232 232 232]\n",
            "   [221 221 221]]\n",
            "\n",
            "  [[189 189 189]\n",
            "   [193 193 193]\n",
            "   [207 207 207]\n",
            "   ...\n",
            "   [238 238 238]\n",
            "   [235 235 235]\n",
            "   [234 234 234]]\n",
            "\n",
            "  ...\n",
            "\n",
            "  [[255 255 255]\n",
            "   [255 255 255]\n",
            "   [255 255 255]\n",
            "   ...\n",
            "   [221 221 221]\n",
            "   [229 229 229]\n",
            "   [233 233 233]]\n",
            "\n",
            "  [[255 255 255]\n",
            "   [255 255 255]\n",
            "   [255 255 255]\n",
            "   ...\n",
            "   [234 234 234]\n",
            "   [242 242 242]\n",
            "   [242 242 242]]\n",
            "\n",
            "  [[255 255 255]\n",
            "   [255 255 255]\n",
            "   [255 255 255]\n",
            "   ...\n",
            "   [238 238 238]\n",
            "   [251 251 251]\n",
            "   [255 255 255]]]\n",
            "\n",
            "\n",
            " [[[252 252 252]\n",
            "   [254 254 254]\n",
            "   [239 239 239]\n",
            "   ...\n",
            "   [255 255 255]\n",
            "   [255 255 255]\n",
            "   [255 255 255]]\n",
            "\n",
            "  [[253 253 253]\n",
            "   [254 254 254]\n",
            "   [244 244 244]\n",
            "   ...\n",
            "   [255 255 255]\n",
            "   [255 255 255]\n",
            "   [255 255 255]]\n",
            "\n",
            "  [[253 253 253]\n",
            "   [254 254 254]\n",
            "   [249 249 249]\n",
            "   ...\n",
            "   [255 255 255]\n",
            "   [255 255 255]\n",
            "   [255 255 255]]\n",
            "\n",
            "  ...\n",
            "\n",
            "  [[247 247 247]\n",
            "   [237 237 237]\n",
            "   [228 228 228]\n",
            "   ...\n",
            "   [229 229 229]\n",
            "   [220 220 220]\n",
            "   [219 219 219]]\n",
            "\n",
            "  [[248 248 248]\n",
            "   [242 242 242]\n",
            "   [234 234 234]\n",
            "   ...\n",
            "   [217 217 217]\n",
            "   [205 205 205]\n",
            "   [206 206 206]]\n",
            "\n",
            "  [[248 248 248]\n",
            "   [249 249 249]\n",
            "   [243 243 243]\n",
            "   ...\n",
            "   [210 210 210]\n",
            "   [195 195 195]\n",
            "   [198 198 198]]]\n",
            "\n",
            "\n",
            " [[[254 254 254]\n",
            "   [254 254 254]\n",
            "   [255 255 255]\n",
            "   ...\n",
            "   [255 255 255]\n",
            "   [226 226 226]\n",
            "   [188 188 188]]\n",
            "\n",
            "  [[254 254 254]\n",
            "   [255 255 255]\n",
            "   [255 255 255]\n",
            "   ...\n",
            "   [255 255 255]\n",
            "   [243 243 243]\n",
            "   [226 226 226]]\n",
            "\n",
            "  [[255 255 255]\n",
            "   [255 255 255]\n",
            "   [255 255 255]\n",
            "   ...\n",
            "   [254 254 254]\n",
            "   [253 253 253]\n",
            "   [253 253 253]]\n",
            "\n",
            "  ...\n",
            "\n",
            "  [[251 251 251]\n",
            "   [242 242 242]\n",
            "   [233 233 233]\n",
            "   ...\n",
            "   [251 251 251]\n",
            "   [252 252 252]\n",
            "   [253 253 253]]\n",
            "\n",
            "  [[211 211 211]\n",
            "   [231 231 231]\n",
            "   [243 243 243]\n",
            "   ...\n",
            "   [252 252 252]\n",
            "   [252 252 252]\n",
            "   [253 253 253]]\n",
            "\n",
            "  [[157 157 157]\n",
            "   [213 213 213]\n",
            "   [252 252 252]\n",
            "   ...\n",
            "   [255 255 255]\n",
            "   [254 254 254]\n",
            "   [254 254 254]]]]\n",
            "['/content/drive/MyDrive/Colab Notebooks/Custom/dataset/train/first_train'\n",
            " '/content/drive/MyDrive/Colab Notebooks/Custom/dataset/train/first_train'\n",
            " '/content/drive/MyDrive/Colab Notebooks/Custom/dataset/train/first_train'\n",
            " '/content/drive/MyDrive/Colab Notebooks/Custom/dataset/train/second_train'\n",
            " '/content/drive/MyDrive/Colab Notebooks/Custom/dataset/train/second_train']\n"
          ]
        }
      ]
    },
    {
      "cell_type": "code",
      "source": [
        "from sklearn import preprocessing\n",
        "le = preprocessing.LabelEncoder()\n",
        "le.fit(train_labels)\n",
        "train_labels_encoded = le.transform(train_labels)"
      ],
      "metadata": {
        "id": "E3m0_WgUvN01"
      },
      "execution_count": null,
      "outputs": []
    },
    {
      "cell_type": "code",
      "source": [
        "RF_model.fit(X_for_RF,train_labels_encoded)"
      ],
      "metadata": {
        "colab": {
          "base_uri": "https://localhost:8080/"
        },
        "id": "SLBfw1k8r2UU",
        "outputId": "88f57b8d-d802-4045-a07d-1855d2cbb7bd"
      },
      "execution_count": null,
      "outputs": [
        {
          "output_type": "execute_result",
          "data": {
            "text/plain": [
              "RandomForestClassifier(n_estimators=50, random_state=42)"
            ]
          },
          "metadata": {},
          "execution_count": 248
        }
      ]
    },
    {
      "cell_type": "code",
      "source": [
        "X_test_feature = vgg.predict(test_set)\n",
        "X_test_features = X_test_feature.reshape(X_test_feature.shape[0], -1)"
      ],
      "metadata": {
        "colab": {
          "base_uri": "https://localhost:8080/"
        },
        "id": "VNqNdOLgstmT",
        "outputId": "fc806a26-b178-48bf-d6ff-3e479448d303"
      },
      "execution_count": null,
      "outputs": [
        {
          "output_type": "stream",
          "name": "stdout",
          "text": [
            "1/1 [==============================] - 3s 3s/step\n"
          ]
        }
      ]
    },
    {
      "cell_type": "code",
      "source": [
        "import numpy as np\n",
        "import matplotlib.pyplot as plt\n",
        "import glob\n",
        "import cv2\n",
        "\n",
        "from keras.models import Model, Sequential\n",
        "from keras.layers import Dense, Flatten, Conv2D, MaxPooling2D\n",
        "from tensorflow.keras.layers import BatchNormalization\n",
        "import os\n",
        "import seaborn as sns\n",
        "from keras.applications.vgg16 import VGG16\n",
        "SIZE = 224\n",
        "test_images = []\n",
        "test_labels = []\n",
        "for directory_path in glob.glob(\"/content/drive/MyDrive/Colab Notebooks/Custom/dataset/test/*\"):\n",
        "    label = directory_path.split(\"\\\\\")[-1]\n",
        "    for img_path in glob.glob(os.path.join(directory_path, \"*.jpg\")):\n",
        "        print(img_path)\n",
        "        img = cv2.imread(img_path, cv2.IMREAD_COLOR)\n",
        "        img = cv2.resize(img, (SIZE, SIZE))\n",
        "        img = cv2.cvtColor(img, cv2.COLOR_RGB2BGR)\n",
        "        test_images.append(img)\n",
        "        test_labels.append(label)"
      ],
      "metadata": {
        "colab": {
          "base_uri": "https://localhost:8080/"
        },
        "id": "M2Ykx7JD3B2b",
        "outputId": "709c3706-e121-4412-e8ea-15a0cc07a203"
      },
      "execution_count": null,
      "outputs": [
        {
          "output_type": "stream",
          "name": "stdout",
          "text": [
            "/content/drive/MyDrive/Colab Notebooks/Custom/dataset/test/first/00000_06 (1).jpg\n",
            "/content/drive/MyDrive/Colab Notebooks/Custom/dataset/test/first/00000_07.jpg\n",
            "/content/drive/MyDrive/Colab Notebooks/Custom/dataset/test/first/00000_08.jpg\n",
            "/content/drive/MyDrive/Colab Notebooks/Custom/dataset/test/second/00000_09.jpg\n",
            "/content/drive/MyDrive/Colab Notebooks/Custom/dataset/test/second/00000_10.jpg\n"
          ]
        }
      ]
    },
    {
      "cell_type": "code",
      "source": [
        "test_images = np.array(test_images)\n",
        "print(test_images)\n",
        "test_labels = np.array(test_labels)\n",
        "print(test_labels)"
      ],
      "metadata": {
        "colab": {
          "base_uri": "https://localhost:8080/"
        },
        "id": "Vu3Q6fDT3Q4N",
        "outputId": "499b403b-b1f7-4b62-a9c9-e5ca394d5ca9"
      },
      "execution_count": null,
      "outputs": [
        {
          "output_type": "stream",
          "name": "stdout",
          "text": [
            "[[[[255 255 255]\n",
            "   [255 255 255]\n",
            "   [254 254 254]\n",
            "   ...\n",
            "   [240 240 240]\n",
            "   [228 228 228]\n",
            "   [191 191 191]]\n",
            "\n",
            "  [[253 253 253]\n",
            "   [253 253 253]\n",
            "   [253 253 253]\n",
            "   ...\n",
            "   [218 218 218]\n",
            "   [217 217 217]\n",
            "   [223 223 223]]\n",
            "\n",
            "  [[251 251 251]\n",
            "   [251 251 251]\n",
            "   [251 251 251]\n",
            "   ...\n",
            "   [157 157 157]\n",
            "   [180 180 180]\n",
            "   [231 231 231]]\n",
            "\n",
            "  ...\n",
            "\n",
            "  [[251 251 251]\n",
            "   [251 251 251]\n",
            "   [239 239 239]\n",
            "   ...\n",
            "   [243 243 243]\n",
            "   [240 240 240]\n",
            "   [240 240 240]]\n",
            "\n",
            "  [[232 232 232]\n",
            "   [209 209 209]\n",
            "   [181 181 181]\n",
            "   ...\n",
            "   [250 250 250]\n",
            "   [247 247 247]\n",
            "   [243 243 243]]\n",
            "\n",
            "  [[206 206 206]\n",
            "   [151 151 151]\n",
            "   [107 107 107]\n",
            "   ...\n",
            "   [255 255 255]\n",
            "   [253 253 253]\n",
            "   [251 251 251]]]\n",
            "\n",
            "\n",
            " [[[103 103 103]\n",
            "   [186 186 186]\n",
            "   [249 249 249]\n",
            "   ...\n",
            "   [254 254 254]\n",
            "   [254 254 254]\n",
            "   [255 255 255]]\n",
            "\n",
            "  [[ 44  44  44]\n",
            "   [ 81  81  81]\n",
            "   [137 137 137]\n",
            "   ...\n",
            "   [254 254 254]\n",
            "   [255 255 255]\n",
            "   [255 255 255]]\n",
            "\n",
            "  [[  0   0   0]\n",
            "   [  2   2   2]\n",
            "   [ 38  38  38]\n",
            "   ...\n",
            "   [255 255 255]\n",
            "   [255 255 255]\n",
            "   [255 255 255]]\n",
            "\n",
            "  ...\n",
            "\n",
            "  [[238 238 238]\n",
            "   [235 235 235]\n",
            "   [227 227 227]\n",
            "   ...\n",
            "   [240 240 240]\n",
            "   [228 228 228]\n",
            "   [213 213 213]]\n",
            "\n",
            "  [[245 245 245]\n",
            "   [233 233 233]\n",
            "   [218 218 218]\n",
            "   ...\n",
            "   [192 192 192]\n",
            "   [157 157 157]\n",
            "   [114 114 114]]\n",
            "\n",
            "  [[253 253 253]\n",
            "   [235 235 235]\n",
            "   [220 220 220]\n",
            "   ...\n",
            "   [131 131 131]\n",
            "   [ 74  74  74]\n",
            "   [  3   3   3]]]\n",
            "\n",
            "\n",
            " [[[255 255 255]\n",
            "   [253 253 253]\n",
            "   [252 252 252]\n",
            "   ...\n",
            "   [  8   8   8]\n",
            "   [  7   7   7]\n",
            "   [  1   1   1]]\n",
            "\n",
            "  [[253 253 253]\n",
            "   [253 253 253]\n",
            "   [254 254 254]\n",
            "   ...\n",
            "   [ 67  67  67]\n",
            "   [ 28  28  28]\n",
            "   [  0   0   0]]\n",
            "\n",
            "  [[251 251 251]\n",
            "   [253 253 253]\n",
            "   [255 255 255]\n",
            "   ...\n",
            "   [147 147 147]\n",
            "   [ 86  86  86]\n",
            "   [ 38  38  38]]\n",
            "\n",
            "  ...\n",
            "\n",
            "  [[251 251 251]\n",
            "   [253 253 253]\n",
            "   [254 254 254]\n",
            "   ...\n",
            "   [224 224 224]\n",
            "   [201 201 201]\n",
            "   [181 181 181]]\n",
            "\n",
            "  [[253 253 253]\n",
            "   [254 254 254]\n",
            "   [255 255 255]\n",
            "   ...\n",
            "   [214 214 214]\n",
            "   [196 196 196]\n",
            "   [183 183 183]]\n",
            "\n",
            "  [[255 255 255]\n",
            "   [255 255 255]\n",
            "   [255 255 255]\n",
            "   ...\n",
            "   [214 214 214]\n",
            "   [198 198 198]\n",
            "   [186 186 186]]]\n",
            "\n",
            "\n",
            " [[[255 255 255]\n",
            "   [255 255 255]\n",
            "   [255 255 255]\n",
            "   ...\n",
            "   [ 60  60  60]\n",
            "   [ 18  18  18]\n",
            "   [  0   0   0]]\n",
            "\n",
            "  [[255 255 255]\n",
            "   [255 255 255]\n",
            "   [255 255 255]\n",
            "   ...\n",
            "   [137 137 137]\n",
            "   [ 91  91  91]\n",
            "   [ 63  63  63]]\n",
            "\n",
            "  [[255 255 255]\n",
            "   [255 255 255]\n",
            "   [255 255 255]\n",
            "   ...\n",
            "   [194 194 194]\n",
            "   [154 154 154]\n",
            "   [122 122 122]]\n",
            "\n",
            "  ...\n",
            "\n",
            "  [[ 52  52  52]\n",
            "   [ 23  23  23]\n",
            "   [  2   2   2]\n",
            "   ...\n",
            "   [246 246 246]\n",
            "   [249 249 249]\n",
            "   [255 255 255]]\n",
            "\n",
            "  [[ 55  55  55]\n",
            "   [ 34  34  34]\n",
            "   [ 14  14  14]\n",
            "   ...\n",
            "   [249 249 249]\n",
            "   [246 246 246]\n",
            "   [244 244 244]]\n",
            "\n",
            "  [[125 125 125]\n",
            "   [ 78  78  78]\n",
            "   [ 31  31  31]\n",
            "   ...\n",
            "   [255 255 255]\n",
            "   [244 244 244]\n",
            "   [230 230 230]]]\n",
            "\n",
            "\n",
            " [[[254 254 254]\n",
            "   [254 254 254]\n",
            "   [254 254 254]\n",
            "   ...\n",
            "   [230 230 230]\n",
            "   [228 228 228]\n",
            "   [227 227 227]]\n",
            "\n",
            "  [[254 254 254]\n",
            "   [254 254 254]\n",
            "   [254 254 254]\n",
            "   ...\n",
            "   [229 229 229]\n",
            "   [231 231 231]\n",
            "   [229 229 229]]\n",
            "\n",
            "  [[255 255 255]\n",
            "   [255 255 255]\n",
            "   [255 255 255]\n",
            "   ...\n",
            "   [225 225 225]\n",
            "   [232 232 232]\n",
            "   [232 232 232]]\n",
            "\n",
            "  ...\n",
            "\n",
            "  [[255 255 255]\n",
            "   [255 255 255]\n",
            "   [255 255 255]\n",
            "   ...\n",
            "   [ 75  75  75]\n",
            "   [ 90  90  90]\n",
            "   [123 123 123]]\n",
            "\n",
            "  [[255 255 255]\n",
            "   [255 255 255]\n",
            "   [255 255 255]\n",
            "   ...\n",
            "   [ 71  71  71]\n",
            "   [ 87  87  87]\n",
            "   [121 121 121]]\n",
            "\n",
            "  [[255 255 255]\n",
            "   [255 255 255]\n",
            "   [255 255 255]\n",
            "   ...\n",
            "   [ 76  76  76]\n",
            "   [ 96  96  96]\n",
            "   [133 133 133]]]]\n",
            "['/content/drive/MyDrive/Colab Notebooks/Custom/dataset/test/first'\n",
            " '/content/drive/MyDrive/Colab Notebooks/Custom/dataset/test/first'\n",
            " '/content/drive/MyDrive/Colab Notebooks/Custom/dataset/test/first'\n",
            " '/content/drive/MyDrive/Colab Notebooks/Custom/dataset/test/second'\n",
            " '/content/drive/MyDrive/Colab Notebooks/Custom/dataset/test/second']\n"
          ]
        }
      ]
    },
    {
      "cell_type": "code",
      "source": [
        "prediction_RF = RF_model.predict(X_test_features)\n",
        "print(prediction_RF)"
      ],
      "metadata": {
        "id": "ka5D5wf7t4Pw",
        "colab": {
          "base_uri": "https://localhost:8080/"
        },
        "outputId": "3dd10c79-96d9-4e33-fefc-67159a46b756"
      },
      "execution_count": null,
      "outputs": [
        {
          "output_type": "stream",
          "name": "stdout",
          "text": [
            "[0 0 0 1 1]\n"
          ]
        }
      ]
    },
    {
      "cell_type": "code",
      "source": [
        "prediction_RF = le.inverse_transform(prediction_RF)"
      ],
      "metadata": {
        "id": "oVvrYpsovoiN"
      },
      "execution_count": null,
      "outputs": []
    },
    {
      "cell_type": "code",
      "source": [
        "from sklearn import metrics\n",
        "print (\"Accuracy = \", metrics.accuracy_score(test_labels,prediction_RF))"
      ],
      "metadata": {
        "colab": {
          "base_uri": "https://localhost:8080/"
        },
        "id": "rXgLPKiOwBQu",
        "outputId": "cb2554cd-7716-4a48-a46a-92ad9a0e167b"
      },
      "execution_count": null,
      "outputs": [
        {
          "output_type": "stream",
          "name": "stdout",
          "text": [
            "Accuracy =  0.0\n"
          ]
        }
      ]
    },
    {
      "cell_type": "code",
      "source": [
        "from sklearn.metrics import confusion_matrix\n",
        "\n",
        "cm = confusion_matrix(test_labels, prediction_RF)\n",
        "sns.heatmap(cm, annot=True)"
      ],
      "metadata": {
        "colab": {
          "base_uri": "https://localhost:8080/",
          "height": 286
        },
        "id": "jck26XIKzBjY",
        "outputId": "5bc1d85c-5992-49fa-9f8b-7ea9e8dad97b"
      },
      "execution_count": null,
      "outputs": [
        {
          "output_type": "execute_result",
          "data": {
            "text/plain": [
              "<matplotlib.axes._subplots.AxesSubplot at 0x7f77eb0d2c10>"
            ]
          },
          "metadata": {},
          "execution_count": 257
        },
        {
          "output_type": "display_data",
          "data": {
            "text/plain": [
              "<Figure size 432x288 with 2 Axes>"
            ],
            "image/png": "[encoded data removed]"
          },
          "metadata": {
            "needs_background": "light"
          }
        }
      ]
    },
    {
      "cell_type": "code",
      "source": [
        "n=np.random.randint(0, test_set.shape[0])\n",
        "img = test_set[n]\n",
        "plt.imshow(img)\n",
        "input_img = np.expand_dims(img, axis=0) #Expand dims so the input is (num images, x, y, c)\n",
        "input_img_feature=VGG_model.predict(input_img)\n",
        "input_img_features=input_img_feature.reshape(input_img_feature.shape[0], -1)\n",
        "prediction_RF = RF_model.predict(input_img_features)[0]\n",
        "prediction_RF = le.inverse_transform([prediction_RF])  #Reverse the label encoder to original name\n",
        "print(\"The prediction for this image is: \", prediction_RF)\n",
        "print(\"The actual label for this image is: \", test_labels[n])"
      ],
      "metadata": {
        "colab": {
          "base_uri": "https://localhost:8080/",
          "height": 235
        },
        "id": "EaPiXzI5zMZ4",
        "outputId": "742d5832-030c-42f8-9431-1396617781d8"
      },
      "execution_count": null,
      "outputs": [
        {
          "output_type": "error",
          "ename": "AttributeError",
          "evalue": "ignored",
          "traceback": [
            "\u001b[0;31m---------------------------------------------------------------------------\u001b[0m",
            "\u001b[0;31mAttributeError\u001b[0m                            Traceback (most recent call last)",
            "\u001b[0;32m<ipython-input-256-7ce4f1c06ab8>\u001b[0m in \u001b[0;36m<module>\u001b[0;34m\u001b[0m\n\u001b[0;32m----> 1\u001b[0;31m \u001b[0mn\u001b[0m\u001b[0;34m=\u001b[0m\u001b[0mnp\u001b[0m\u001b[0;34m.\u001b[0m\u001b[0mrandom\u001b[0m\u001b[0;34m.\u001b[0m\u001b[0mrandint\u001b[0m\u001b[0;34m(\u001b[0m\u001b[0;36m0\u001b[0m\u001b[0;34m,\u001b[0m \u001b[0mtest_set\u001b[0m\u001b[0;34m.\u001b[0m\u001b[0mshape\u001b[0m\u001b[0;34m[\u001b[0m\u001b[0;36m0\u001b[0m\u001b[0;34m]\u001b[0m\u001b[0;34m)\u001b[0m\u001b[0;34m\u001b[0m\u001b[0;34m\u001b[0m\u001b[0m\n\u001b[0m\u001b[1;32m      2\u001b[0m \u001b[0mimg\u001b[0m \u001b[0;34m=\u001b[0m \u001b[0mtest_set\u001b[0m\u001b[0;34m[\u001b[0m\u001b[0mn\u001b[0m\u001b[0;34m]\u001b[0m\u001b[0;34m\u001b[0m\u001b[0;34m\u001b[0m\u001b[0m\n\u001b[1;32m      3\u001b[0m \u001b[0mplt\u001b[0m\u001b[0;34m.\u001b[0m\u001b[0mimshow\u001b[0m\u001b[0;34m(\u001b[0m\u001b[0mimg\u001b[0m\u001b[0;34m)\u001b[0m\u001b[0;34m\u001b[0m\u001b[0;34m\u001b[0m\u001b[0m\n\u001b[1;32m      4\u001b[0m \u001b[0minput_img\u001b[0m \u001b[0;34m=\u001b[0m \u001b[0mnp\u001b[0m\u001b[0;34m.\u001b[0m\u001b[0mexpand_dims\u001b[0m\u001b[0;34m(\u001b[0m\u001b[0mimg\u001b[0m\u001b[0;34m,\u001b[0m \u001b[0maxis\u001b[0m\u001b[0;34m=\u001b[0m\u001b[0;36m0\u001b[0m\u001b[0;34m)\u001b[0m \u001b[0;31m#Expand dims so the input is (num images, x, y, c)\u001b[0m\u001b[0;34m\u001b[0m\u001b[0;34m\u001b[0m\u001b[0m\n\u001b[1;32m      5\u001b[0m \u001b[0minput_img_feature\u001b[0m\u001b[0;34m=\u001b[0m\u001b[0mVGG_model\u001b[0m\u001b[0;34m.\u001b[0m\u001b[0mpredict\u001b[0m\u001b[0;34m(\u001b[0m\u001b[0minput_img\u001b[0m\u001b[0;34m)\u001b[0m\u001b[0;34m\u001b[0m\u001b[0;34m\u001b[0m\u001b[0m\n",
            "\u001b[0;31mAttributeError\u001b[0m: 'DirectoryIterator' object has no attribute 'shape'"
          ]
        }
      ]
    },
    {
      "cell_type": "code",
      "source": [
        "from datetime import datetime\n",
        "from keras.callbacks import ModelCheckpoint\n",
        "\n",
        "\n",
        "\n",
        "checkpoint = ModelCheckpoint(filepath='mymodel.h2',\n",
        "                               verbose=2, save_best_only=True)\n",
        "\n",
        "callbacks = [checkpoint]\n",
        "\n",
        "start = datetime.now()\n",
        "\n",
        "model_history=model.fit(\n",
        "  train_set,\n",
        "  validation_data=test_set,\n",
        "  epochs=10,\n",
        "  steps_per_epoch=5,\n",
        "  validation_steps=32,\n",
        "  callbacks=callbacks ,verbose=2)\n",
        "\n",
        "\n",
        "duration = datetime.now() - start\n",
        "print(\"Training completed in time: \", duration)"
      ],
      "metadata": {
        "id": "Zqew36ylCtGB",
        "colab": {
          "base_uri": "https://localhost:8080/",
          "height": 380
        },
        "outputId": "c5663291-f930-4aa0-aa8d-6730f7b8fe56"
      },
      "execution_count": null,
      "outputs": [
        {
          "output_type": "error",
          "ename": "ValueError",
          "evalue": "ignored",
          "traceback": [
            "\u001b[0;31m---------------------------------------------------------------------------\u001b[0m",
            "\u001b[0;31mValueError\u001b[0m                                Traceback (most recent call last)",
            "\u001b[0;32m<ipython-input-23-00d4c47bae77>\u001b[0m in \u001b[0;36m<cell line: 13>\u001b[0;34m()\u001b[0m\n\u001b[1;32m     11\u001b[0m \u001b[0mstart\u001b[0m \u001b[0;34m=\u001b[0m \u001b[0mdatetime\u001b[0m\u001b[0;34m.\u001b[0m\u001b[0mnow\u001b[0m\u001b[0;34m(\u001b[0m\u001b[0;34m)\u001b[0m\u001b[0;34m\u001b[0m\u001b[0;34m\u001b[0m\u001b[0m\n\u001b[1;32m     12\u001b[0m \u001b[0;34m\u001b[0m\u001b[0m\n\u001b[0;32m---> 13\u001b[0;31m model_history=model.fit(\n\u001b[0m\u001b[1;32m     14\u001b[0m   \u001b[0mtrain_set\u001b[0m\u001b[0;34m,\u001b[0m\u001b[0;34m\u001b[0m\u001b[0;34m\u001b[0m\u001b[0m\n\u001b[1;32m     15\u001b[0m   \u001b[0mvalidation_data\u001b[0m\u001b[0;34m=\u001b[0m\u001b[0mtest_set\u001b[0m\u001b[0;34m,\u001b[0m\u001b[0;34m\u001b[0m\u001b[0;34m\u001b[0m\u001b[0m\n",
            "\u001b[0;32m/usr/local/lib/python3.10/dist-packages/keras/utils/traceback_utils.py\u001b[0m in \u001b[0;36merror_handler\u001b[0;34m(*args, **kwargs)\u001b[0m\n\u001b[1;32m     68\u001b[0m             \u001b[0;31m# To get the full stack trace, call:\u001b[0m\u001b[0;34m\u001b[0m\u001b[0;34m\u001b[0m\u001b[0m\n\u001b[1;32m     69\u001b[0m             \u001b[0;31m# `tf.debugging.disable_traceback_filtering()`\u001b[0m\u001b[0;34m\u001b[0m\u001b[0;34m\u001b[0m\u001b[0m\n\u001b[0;32m---> 70\u001b[0;31m             \u001b[0;32mraise\u001b[0m \u001b[0me\u001b[0m\u001b[0;34m.\u001b[0m\u001b[0mwith_traceback\u001b[0m\u001b[0;34m(\u001b[0m\u001b[0mfiltered_tb\u001b[0m\u001b[0;34m)\u001b[0m \u001b[0;32mfrom\u001b[0m \u001b[0;32mNone\u001b[0m\u001b[0;34m\u001b[0m\u001b[0;34m\u001b[0m\u001b[0m\n\u001b[0m\u001b[1;32m     71\u001b[0m         \u001b[0;32mfinally\u001b[0m\u001b[0;34m:\u001b[0m\u001b[0;34m\u001b[0m\u001b[0;34m\u001b[0m\u001b[0m\n\u001b[1;32m     72\u001b[0m             \u001b[0;32mdel\u001b[0m \u001b[0mfiltered_tb\u001b[0m\u001b[0;34m\u001b[0m\u001b[0;34m\u001b[0m\u001b[0m\n",
            "\u001b[0;32m/usr/local/lib/python3.10/dist-packages/keras/preprocessing/image.py\u001b[0m in \u001b[0;36m__getitem__\u001b[0;34m(self, idx)\u001b[0m\n\u001b[1;32m    101\u001b[0m     \u001b[0;32mdef\u001b[0m \u001b[0m__getitem__\u001b[0m\u001b[0;34m(\u001b[0m\u001b[0mself\u001b[0m\u001b[0;34m,\u001b[0m \u001b[0midx\u001b[0m\u001b[0;34m)\u001b[0m\u001b[0;34m:\u001b[0m\u001b[0;34m\u001b[0m\u001b[0;34m\u001b[0m\u001b[0m\n\u001b[1;32m    102\u001b[0m         \u001b[0;32mif\u001b[0m \u001b[0midx\u001b[0m \u001b[0;34m>=\u001b[0m \u001b[0mlen\u001b[0m\u001b[0;34m(\u001b[0m\u001b[0mself\u001b[0m\u001b[0;34m)\u001b[0m\u001b[0;34m:\u001b[0m\u001b[0;34m\u001b[0m\u001b[0;34m\u001b[0m\u001b[0m\n\u001b[0;32m--> 103\u001b[0;31m             raise ValueError(\n\u001b[0m\u001b[1;32m    104\u001b[0m                 \u001b[0;34m\"Asked to retrieve element {idx}, \"\u001b[0m\u001b[0;34m\u001b[0m\u001b[0;34m\u001b[0m\u001b[0m\n\u001b[1;32m    105\u001b[0m                 \u001b[0;34m\"but the Sequence \"\u001b[0m\u001b[0;34m\u001b[0m\u001b[0;34m\u001b[0m\u001b[0m\n",
            "\u001b[0;31mValueError\u001b[0m: Asked to retrieve element 0, but the Sequence has length 0"
          ]
        }
      ]
    },
    {
      "cell_type": "code",
      "source": [
        "plt.plot(model_history.history['accuracy'])\n",
        "plt.plot(model_history.history['val_accuracy'])\n",
        "plt.title('CNN Model accuracy values')\n",
        "plt.ylabel('Accuracy')\n",
        "plt.xlabel('Epoch')\n",
        "plt.legend(['Train', 'Test'], loc='upper left')\n",
        "plt.show()"
      ],
      "metadata": {
        "id": "_QI1TALWT7Eh"
      },
      "execution_count": null,
      "outputs": []
    }
  ]
}